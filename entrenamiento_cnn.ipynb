{
 "cells": [
  {
   "cell_type": "markdown",
   "id": "8ca90d2d",
   "metadata": {},
   "source": [
    "# Entrenamiento CNN\n"
   ]
  },
  {
   "cell_type": "markdown",
   "id": "01bd1262",
   "metadata": {},
   "source": [
    "# Importando dataset\n"
   ]
  },
  {
   "cell_type": "code",
   "execution_count": 1,
   "id": "9f3626a0",
   "metadata": {},
   "outputs": [
    {
     "name": "stderr",
     "output_type": "stream",
     "text": [
      "2022-11-18 11:37:20.076958: I tensorflow/core/platform/cpu_feature_guard.cc:193] This TensorFlow binary is optimized with oneAPI Deep Neural Network Library (oneDNN) to use the following CPU instructions in performance-critical operations:  AVX2 FMA\n",
      "To enable them in other operations, rebuild TensorFlow with the appropriate compiler flags.\n",
      "2022-11-18 11:37:20.567185: W tensorflow/stream_executor/platform/default/dso_loader.cc:64] Could not load dynamic library 'libcudart.so.11.0'; dlerror: libcudart.so.11.0: cannot open shared object file: No such file or directory\n",
      "2022-11-18 11:37:20.567236: I tensorflow/stream_executor/cuda/cudart_stub.cc:29] Ignore above cudart dlerror if you do not have a GPU set up on your machine.\n",
      "2022-11-18 11:37:20.624597: E tensorflow/stream_executor/cuda/cuda_blas.cc:2981] Unable to register cuBLAS factory: Attempting to register factory for plugin cuBLAS when one has already been registered\n",
      "2022-11-18 11:37:21.591115: W tensorflow/stream_executor/platform/default/dso_loader.cc:64] Could not load dynamic library 'libnvinfer.so.7'; dlerror: libnvinfer.so.7: cannot open shared object file: No such file or directory\n",
      "2022-11-18 11:37:21.591249: W tensorflow/stream_executor/platform/default/dso_loader.cc:64] Could not load dynamic library 'libnvinfer_plugin.so.7'; dlerror: libnvinfer_plugin.so.7: cannot open shared object file: No such file or directory\n",
      "2022-11-18 11:37:21.591256: W tensorflow/compiler/tf2tensorrt/utils/py_utils.cc:38] TF-TRT Warning: Cannot dlopen some TensorRT libraries. If you would like to use Nvidia GPU with TensorRT, please make sure the missing libraries mentioned above are installed properly.\n"
     ]
    }
   ],
   "source": [
    "import pandas as pd\n",
    "import numpy as np\n",
    "import os\n",
    "import matplotlib.pyplot as plt\n",
    "from keras.applications.mobilenet import preprocess_input\n",
    "from keras import optimizers\n",
    "from keras.preprocessing.image import ImageDataGenerator\n",
    "from keras.models import Sequential\n",
    "from keras.layers import Dense,Activation,Flatten,Dropout\n",
    "from keras.layers import Conv2D,MaxPooling2D\n",
    "from keras.callbacks import ModelCheckpoint\n",
    "from keras import backend as K\n",
    "from keras.preprocessing import image\n",
    "from mlxtend.evaluate import confusion_matrix\n",
    "import matplotlib.image as mpimg"
   ]
  },
  {
   "cell_type": "code",
   "execution_count": 2,
   "id": "ef6b27e6",
   "metadata": {},
   "outputs": [],
   "source": [
    "#Limpiamos todo en caso de un nuevo entrenamiento\n",
    "K.clear_session()\n",
    "# Damos las direcciones de las carpetas que contienen los datasets\n",
    "data_entrenamiento = '../dataset_reducida/train'\n",
    "data_validacion = '../dataset_reducida/validation'"
   ]
  },
  {
   "cell_type": "code",
   "execution_count": 3,
   "id": "77c1ec9e",
   "metadata": {},
   "outputs": [],
   "source": [
    "#Hyper parametros\n",
    "epocas = 21 #cantidad de iteraciones\n",
    "longitud, altura = 200, 200 #longitud y altura de la convolucion\n",
    "batch_size = 32 #numero de imagenes que procesa la pc en cada uno de los pasos\n",
    "#pasos_entramiento = cada epoca se va a dividir en XX pasos\n",
    "#pasos_validacion = cada epoca se va a validar YY, sirve para verificar que se esta aprendiendo\n",
    "filtrosConv1 = 128 #numero de filtros que aplicaremos tras la primera convolucion\n",
    "filtrosConv2 = 256 #tras segunda segunda convolucion\n",
    "tam_filtro1 = (3,3)\n",
    "tam_filtro2 = (2,2)\n",
    "tam_pool = (2,2) #para mejorar avance de la convolucion\n",
    "clases = 3\n",
    "lr = 0.0005\n",
    "\n",
    "#Cambios en numero de filtros, con un aumento considerable"
   ]
  },
  {
   "cell_type": "code",
   "execution_count": 4,
   "id": "30a493d8",
   "metadata": {},
   "outputs": [
    {
     "name": "stdout",
     "output_type": "stream",
     "text": [
      "Found 1847 images belonging to 3 classes.\n",
      "Found 452 images belonging to 3 classes.\n",
      "{'high': 0, 'low': 1, 'mid': 2}\n"
     ]
    }
   ],
   "source": [
    "entrenamiento_datagen = ImageDataGenerator(\n",
    "    rescale = 1. / 255, #reescalamos los pixeles de la imagen entre 0 y 1, \n",
    "    shear_range = 0.27, #inclinar imagenes, porque las imagenes no siempre vienen derechas,\n",
    "    zoom_range = 0.36, #porciones de imagenes,\n",
    "    horizontal_flip = True)\n",
    "# CAMBIO en shear_range y zoom_range a 0,27 y 0,36 desde 0,3\n",
    "\n",
    "validacion_datagen = ImageDataGenerator(rescale = 1. / 255)\n",
    "\n",
    "#va abrir y preparar toda la carpeta de entrenamiento\n",
    "imagen_entrenamiento = entrenamiento_datagen.flow_from_directory(\n",
    "    data_entrenamiento,\n",
    "    target_size=(altura, longitud),\n",
    "    batch_size=batch_size,\n",
    "    class_mode='categorical')\n",
    "\n",
    "#va abrir y preparar toda la carpeta de validacion\n",
    "imagen_validacion = validacion_datagen.flow_from_directory(\n",
    "    data_validacion,\n",
    "    target_size=(altura, longitud),\n",
    "    batch_size=batch_size,\n",
    "    class_mode='categorical')\n",
    "\n",
    "print(imagen_entrenamiento.class_indices)"
   ]
  },
  {
   "cell_type": "code",
   "execution_count": 5,
   "id": "5d8df91a",
   "metadata": {},
   "outputs": [],
   "source": [
    "pasos_entrenamiento = imagen_entrenamiento.n//imagen_entrenamiento.batch_size\n",
    "pasos_validacion = imagen_validacion.n//imagen_validacion.batch_size"
   ]
  },
  {
   "cell_type": "code",
   "execution_count": 6,
   "id": "0fabd737",
   "metadata": {},
   "outputs": [
    {
     "name": "stderr",
     "output_type": "stream",
     "text": [
      "2022-11-18 11:37:23.276122: W tensorflow/stream_executor/platform/default/dso_loader.cc:64] Could not load dynamic library 'libcuda.so.1'; dlerror: libcuda.so.1: cannot open shared object file: No such file or directory\n",
      "2022-11-18 11:37:23.276441: W tensorflow/stream_executor/cuda/cuda_driver.cc:263] failed call to cuInit: UNKNOWN ERROR (303)\n",
      "2022-11-18 11:37:23.276457: I tensorflow/stream_executor/cuda/cuda_diagnostics.cc:156] kernel driver does not appear to be running on this host (cipher): /proc/driver/nvidia/version does not exist\n",
      "2022-11-18 11:37:23.277081: I tensorflow/core/platform/cpu_feature_guard.cc:193] This TensorFlow binary is optimized with oneAPI Deep Neural Network Library (oneDNN) to use the following CPU instructions in performance-critical operations:  AVX2 FMA\n",
      "To enable them in other operations, rebuild TensorFlow with the appropriate compiler flags.\n",
      "2022-11-18 11:37:23.375319: W tensorflow/core/framework/cpu_allocator_impl.cc:82] Allocation of 5242880000 exceeds 10% of free system memory.\n",
      "2022-11-18 11:37:24.410626: W tensorflow/core/framework/cpu_allocator_impl.cc:82] Allocation of 5242880000 exceeds 10% of free system memory.\n",
      "2022-11-18 11:37:25.325767: W tensorflow/core/framework/cpu_allocator_impl.cc:82] Allocation of 5242880000 exceeds 10% of free system memory.\n"
     ]
    }
   ],
   "source": [
    "#Crear la red neuronal convolucional\n",
    "cnn = Sequential() #varias capas aplicadas entre ellas\n",
    "cnn.add(Conv2D(filtrosConv1, tam_filtro1, padding = 'same', input_shape=(longitud,altura,3), activation='relu'))\n",
    "cnn.add(MaxPooling2D(pool_size = tam_pool))\n",
    "cnn.add(Dropout(0.79123456)) #se apagan 80% de as neuronas cada paso, evitando sobreajuste\n",
    "\n",
    "cnn.add(Conv2D(filtrosConv2, tam_filtro2, padding = 'same'))\n",
    "cnn.add(MaxPooling2D(pool_size = tam_pool))\n",
    "\n",
    "cnn.add(Flatten()) #imagen profunda la vamos a hacer plana, es decir, solo una dimension\n",
    "cnn.add(Dense(2048, activation = 'relu')) #añadimos una capa que va a conectar la anterior y las sgts 256 conexiones\n",
    "cnn.add(Dropout(0.5123456)) #apagamos 50% de as neuronas cada paso, evitando sobreajuste\n",
    "cnn.add(Dense(clases,activation = 'softmax')) #indica que prob tiene cada clase\n",
    "\n",
    "# se agrega un dropout al inicio del modelo con 80% de perdida, por otro lado la densida de la capa se cambia a 2048"
   ]
  },
  {
   "cell_type": "code",
   "execution_count": 7,
   "id": "2189dc44",
   "metadata": {
    "scrolled": true
   },
   "outputs": [
    {
     "name": "stderr",
     "output_type": "stream",
     "text": [
      "/home/ccipher/.local/lib/python3.10/site-packages/keras/optimizers/optimizer_v2/adam.py:114: UserWarning: The `lr` argument is deprecated, use `learning_rate` instead.\n",
      "  super().__init__(name, **kwargs)\n",
      "/tmp/ipykernel_46373/2778928771.py:5: UserWarning: `Model.fit_generator` is deprecated and will be removed in a future version. Please use `Model.fit`, which supports generators.\n",
      "  H = cnn.fit_generator(\n"
     ]
    },
    {
     "name": "stdout",
     "output_type": "stream",
     "text": [
      "Epoch 1/21\n"
     ]
    },
    {
     "name": "stderr",
     "output_type": "stream",
     "text": [
      "2022-11-18 11:37:27.743890: W tensorflow/core/framework/cpu_allocator_impl.cc:82] Allocation of 5242880000 exceeds 10% of free system memory.\n",
      "2022-11-18 11:37:28.248449: W tensorflow/core/framework/cpu_allocator_impl.cc:82] Allocation of 5242880000 exceeds 10% of free system memory.\n"
     ]
    },
    {
     "name": "stdout",
     "output_type": "stream",
     "text": [
      "57/57 [==============================] - 597s 10s/step - loss: 24.1879 - accuracy: 0.4116 - val_loss: 63.8771 - val_accuracy: 0.2723\n",
      "Epoch 2/21\n",
      "57/57 [==============================] - 606s 11s/step - loss: 1.2329 - accuracy: 0.4871 - val_loss: 57.4543 - val_accuracy: 0.2522\n",
      "Epoch 3/21\n",
      "57/57 [==============================] - 596s 10s/step - loss: 1.0993 - accuracy: 0.5207 - val_loss: 55.4734 - val_accuracy: 0.3661\n",
      "Epoch 4/21\n",
      "57/57 [==============================] - 596s 10s/step - loss: 0.9595 - accuracy: 0.5482 - val_loss: 47.7733 - val_accuracy: 0.3192\n",
      "Epoch 5/21\n",
      "57/57 [==============================] - 597s 10s/step - loss: 0.9364 - accuracy: 0.5669 - val_loss: 44.1216 - val_accuracy: 0.2723\n",
      "Epoch 6/21\n",
      "57/57 [==============================] - 600s 11s/step - loss: 0.9261 - accuracy: 0.5758 - val_loss: 31.6442 - val_accuracy: 0.2790\n",
      "Epoch 7/21\n",
      "57/57 [==============================] - 603s 11s/step - loss: 0.8651 - accuracy: 0.5934 - val_loss: 30.3631 - val_accuracy: 0.2835\n",
      "Epoch 8/21\n",
      "57/57 [==============================] - 597s 10s/step - loss: 0.8730 - accuracy: 0.5994 - val_loss: 30.5705 - val_accuracy: 0.2812\n",
      "Epoch 9/21\n",
      "57/57 [==============================] - 602s 11s/step - loss: 0.8510 - accuracy: 0.6149 - val_loss: 25.2848 - val_accuracy: 0.2746\n",
      "Epoch 10/21\n",
      "57/57 [==============================] - 600s 11s/step - loss: 0.8598 - accuracy: 0.6044 - val_loss: 28.1048 - val_accuracy: 0.2924\n",
      "Epoch 11/21\n",
      "57/57 [==============================] - 601s 11s/step - loss: 0.8492 - accuracy: 0.5961 - val_loss: 25.6494 - val_accuracy: 0.2902\n",
      "Epoch 12/21\n",
      "57/57 [==============================] - 602s 11s/step - loss: 0.8285 - accuracy: 0.6198 - val_loss: 23.0103 - val_accuracy: 0.2924\n",
      "Epoch 13/21\n",
      "57/57 [==============================] - 602s 11s/step - loss: 0.8197 - accuracy: 0.6193 - val_loss: 37.4685 - val_accuracy: 0.3772\n",
      "Epoch 14/21\n",
      "57/57 [==============================] - 603s 11s/step - loss: 0.8034 - accuracy: 0.6259 - val_loss: 37.9832 - val_accuracy: 0.3549\n",
      "Epoch 15/21\n",
      "57/57 [==============================] - 603s 11s/step - loss: 0.8177 - accuracy: 0.6253 - val_loss: 45.7248 - val_accuracy: 0.3504\n",
      "Epoch 16/21\n",
      "57/57 [==============================] - 603s 11s/step - loss: 0.8164 - accuracy: 0.6182 - val_loss: 47.3608 - val_accuracy: 0.3460\n",
      "Epoch 17/21\n",
      "57/57 [==============================] - 600s 11s/step - loss: 0.7732 - accuracy: 0.6567 - val_loss: 41.2698 - val_accuracy: 0.3638\n",
      "Epoch 18/21\n",
      "57/57 [==============================] - 604s 11s/step - loss: 0.7788 - accuracy: 0.6424 - val_loss: 40.8598 - val_accuracy: 0.3571\n",
      "Epoch 19/21\n",
      "57/57 [==============================] - 603s 11s/step - loss: 0.7771 - accuracy: 0.6391 - val_loss: 31.7400 - val_accuracy: 0.3638\n",
      "Epoch 20/21\n",
      "57/57 [==============================] - 605s 11s/step - loss: 0.7744 - accuracy: 0.6518 - val_loss: 30.0289 - val_accuracy: 0.3884\n",
      "Epoch 21/21\n",
      "57/57 [==============================] - 598s 10s/step - loss: 0.7417 - accuracy: 0.6623 - val_loss: 29.5771 - val_accuracy: 0.3661\n"
     ]
    }
   ],
   "source": [
    "# import scipy\n",
    "cnn.compile(loss='categorical_crossentropy',\n",
    "           optimizer=optimizers.Adam(lr=lr),\n",
    "           metrics=['accuracy'])\n",
    "H = cnn.fit_generator(\n",
    "    imagen_entrenamiento,\n",
    "    steps_per_epoch=pasos_entrenamiento,\n",
    "    epochs = epocas,\n",
    "    validation_data = imagen_validacion,\n",
    "    validation_steps= pasos_validacion)\n",
    "cnn.save('model_11v7.h5')"
   ]
  },
  {
   "cell_type": "code",
   "execution_count": 8,
   "id": "278949a4",
   "metadata": {},
   "outputs": [
    {
     "data": {
      "image/png": "[encoded data removed]",
      "text/plain": [
       "<Figure size 640x480 with 1 Axes>"
      ]
     },
     "metadata": {},
     "output_type": "display_data"
    }
   ],
   "source": [
    "N = epocas\n",
    "\n",
    "plt.style.use(\"ggplot\")\n",
    "plt.figure()\n",
    "plt.plot(np.arange(0,N),H.history[\"loss\"],label=\"train_loss\")\n",
    "plt.plot(np.arange(0,N),H.history[\"val_loss\"],label=\"val_loss\")\n",
    "plt.plot(np.arange(0,N),H.history[\"accuracy\"],label=\"train_acc\")\n",
    "plt.plot(np.arange(0,N),H.history[\"val_accuracy\"],label=\"val_acc\")\n",
    "plt.title(\"Training Loss and Accuracy on Dataset\")\n",
    "plt.xlabel(\"Epoch \"+str(N))\n",
    "plt.ylabel(\"Loss/Accuracy\")     \n",
    "plt.legend(loc=\"lower left\")\n",
    "plt.savefig(\"plot11v7.png\")\n"
   ]
  },
  {
   "cell_type": "code",
   "execution_count": null,
   "id": "edaf183e",
   "metadata": {},
   "outputs": [],
   "source": []
  }
 ],
 "metadata": {
  "kernelspec": {
   "display_name": "Python 3.10.6 64-bit",
   "language": "python",
   "name": "python3"
  },
  "language_info": {
   "codemirror_mode": {
    "name": "ipython",
    "version": 3
   },
   "file_extension": ".py",
   "mimetype": "text/x-python",
   "name": "python",
   "nbconvert_exporter": "python",
   "pygments_lexer": "ipython3",
   "version": "3.10.6"
  },
  "vscode": {
   "interpreter": {
    "hash": "31f2aee4e71d21fbe5cf8b01ff0e069b9275f58929596ceb00d14d90e3e16cd6"
   }
  }
 },
 "nbformat": 4,
 "nbformat_minor": 5
}
